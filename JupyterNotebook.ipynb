{
 "cells": [
  {
   "cell_type": "code",
   "execution_count": 44,
   "metadata": {},
   "outputs": [
    {
     "name": "stdout",
     "output_type": "stream",
     "text": [
      "<Response [200]>\n",
      "November -3rd\n"
     ]
    }
   ],
   "source": [
    "import requests # pip install requests\n",
    "from bs4 import BeautifulSoup # pip install bs4\n",
    "\n",
    "link = \"https://example.com\"\n",
    "page = requests.get(link)\n",
    "\n",
    "print(page)\n",
    "\n",
    "soup = BeautifulSoup(page.content)\n",
    "\n",
    "print(soup)\n",
    "\n",
    "# print(date_text.getText())"
   ]
  }
 ],
 "metadata": {
  "interpreter": {
   "hash": "9e1b8683f716d6701196647aaf03f6c5f55c3e7274483c97e19e2a502f525e60"
  },
  "kernelspec": {
   "display_name": "Python 3.9.1 64-bit",
   "language": "python",
   "name": "python3"
  },
  "language_info": {
   "codemirror_mode": {
    "name": "ipython",
    "version": 3
   },
   "file_extension": ".py",
   "mimetype": "text/x-python",
   "name": "python",
   "nbconvert_exporter": "python",
   "pygments_lexer": "ipython3",
   "version": "3.9.1"
  },
  "orig_nbformat": 4
 },
 "nbformat": 4,
 "nbformat_minor": 2
}
